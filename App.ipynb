{
 "cells": [
  {
   "cell_type": "code",
   "execution_count": 2,
   "id": "4d4b1295",
   "metadata": {},
   "outputs": [
    {
     "ename": "ValueError",
     "evalue": "dictionary update sequence element #0 has length 1; 2 is required",
     "output_type": "error",
     "traceback": [
      "\u001b[0;31m---------------------------------------------------------------------------\u001b[0m",
      "\u001b[0;31mValueError\u001b[0m                                Traceback (most recent call last)",
      "Input \u001b[0;32mIn [2]\u001b[0m, in \u001b[0;36m<cell line: 4>\u001b[0;34m()\u001b[0m\n\u001b[1;32m      1\u001b[0m \u001b[38;5;28;01mfrom\u001b[39;00m \u001b[38;5;21;01mmdict\u001b[39;00m \u001b[38;5;28;01mimport\u001b[39;00m MDict\n\u001b[1;32m      3\u001b[0m mdx_file \u001b[38;5;241m=\u001b[39m \u001b[38;5;124m'\u001b[39m\u001b[38;5;124mVocabulary/ced23.mdx\u001b[39m\u001b[38;5;124m'\u001b[39m\n\u001b[0;32m----> 4\u001b[0m mdict \u001b[38;5;241m=\u001b[39m \u001b[43mMDict\u001b[49m\u001b[43m(\u001b[49m\u001b[43mmdx_file\u001b[49m\u001b[43m)\u001b[49m\n\u001b[1;32m      5\u001b[0m definitions \u001b[38;5;241m=\u001b[39m mdict\u001b[38;5;241m.\u001b[39mitems()\n\u001b[1;32m      7\u001b[0m \u001b[38;5;28;01mfor\u001b[39;00m word, definition \u001b[38;5;129;01min\u001b[39;00m definitions:\n",
      "\u001b[0;31mValueError\u001b[0m: dictionary update sequence element #0 has length 1; 2 is required"
     ]
    }
   ],
   "source": [
    "from mdict import MDict\n",
    "\n",
    "mdx_file = 'Vocabulary/ced23.mdx'\n",
    "\n",
    "mdict = MDict(mdx_file)\n",
    "definitions = mdict.items()\n",
    "\n",
    "for word, definition in definitions:\n",
    "    print(f\"Word: {word}\\nDefinition: {definition}\")\n"
   ]
  },
  {
   "cell_type": "code",
   "execution_count": 11,
   "id": "d43cc404",
   "metadata": {},
   "outputs": [
    {
     "ename": "ValueError",
     "evalue": "dictionary update sequence element #0 has length 609; 2 is required",
     "output_type": "error",
     "traceback": [
      "\u001b[0;31m---------------------------------------------------------------------------\u001b[0m",
      "\u001b[0;31mValueError\u001b[0m                                Traceback (most recent call last)",
      "Input \u001b[0;32mIn [11]\u001b[0m, in \u001b[0;36m<cell line: 6>\u001b[0;34m()\u001b[0m\n\u001b[1;32m      3\u001b[0m \u001b[38;5;28mdir\u001b[39m(mdict\u001b[38;5;241m.\u001b[39mMDict)\n\u001b[1;32m      5\u001b[0m d \u001b[38;5;241m=\u001b[39m \u001b[38;5;28mopen\u001b[39m(mdx_file,\u001b[38;5;124m'\u001b[39m\u001b[38;5;124mrb\u001b[39m\u001b[38;5;124m'\u001b[39m)\n\u001b[0;32m----> 6\u001b[0m \u001b[43mmdict\u001b[49m\u001b[38;5;241;43m.\u001b[39;49m\u001b[43mMDict\u001b[49m\u001b[43m(\u001b[49m\u001b[43md\u001b[49m\u001b[43m)\u001b[49m\n",
      "\u001b[0;31mValueError\u001b[0m: dictionary update sequence element #0 has length 609; 2 is required"
     ]
    }
   ],
   "source": [
    "import mdict\n",
    "dir(mdict)\n",
    "dir(mdict.MDict)\n",
    "\n",
    "d = open(mdx_file,'rb')\n",
    "mdict.MDict(d)"
   ]
  },
  {
   "cell_type": "code",
   "execution_count": 3,
   "id": "ac7acc85",
   "metadata": {},
   "outputs": [
    {
     "name": "stdout",
     "output_type": "stream",
     "text": [
      " * Serving Flask app '__main__'\n",
      " * Debug mode: on\n"
     ]
    },
    {
     "name": "stderr",
     "output_type": "stream",
     "text": [
      "\u001b[31m\u001b[1mWARNING: This is a development server. Do not use it in a production deployment. Use a production WSGI server instead.\u001b[0m\n",
      " * Running on http://127.0.0.1:8889\n",
      "\u001b[33mPress CTRL+C to quit\u001b[0m\n",
      " * Restarting with stat\n",
      "Traceback (most recent call last):\n",
      "  File \"/Users/ding/miniconda3/envs/jmed/lib/python3.9/site-packages/ipykernel_launcher.py\", line 16, in <module>\n",
      "    app.launch_new_instance()\n",
      "  File \"/Users/ding/miniconda3/envs/jmed/lib/python3.9/site-packages/traitlets/config/application.py\", line 845, in launch_instance\n",
      "    app.initialize(argv)\n",
      "  File \"/Users/ding/miniconda3/envs/jmed/lib/python3.9/site-packages/traitlets/config/application.py\", line 88, in inner\n",
      "    return method(app, *args, **kwargs)\n",
      "  File \"/Users/ding/miniconda3/envs/jmed/lib/python3.9/site-packages/ipykernel/kernelapp.py\", line 632, in initialize\n",
      "    self.init_sockets()\n",
      "  File \"/Users/ding/miniconda3/envs/jmed/lib/python3.9/site-packages/ipykernel/kernelapp.py\", line 282, in init_sockets\n",
      "    self.shell_port = self._bind_socket(self.shell_socket, self.shell_port)\n",
      "  File \"/Users/ding/miniconda3/envs/jmed/lib/python3.9/site-packages/ipykernel/kernelapp.py\", line 229, in _bind_socket\n",
      "    return self._try_bind_socket(s, port)\n",
      "  File \"/Users/ding/miniconda3/envs/jmed/lib/python3.9/site-packages/ipykernel/kernelapp.py\", line 205, in _try_bind_socket\n",
      "    s.bind(\"tcp://%s:%i\" % (self.ip, port))\n",
      "  File \"/Users/ding/miniconda3/envs/jmed/lib/python3.9/site-packages/zmq/sugar/socket.py\", line 214, in bind\n",
      "    super().bind(addr)\n",
      "  File \"zmq/backend/cython/socket.pyx\", line 540, in zmq.backend.cython.socket.Socket.bind\n",
      "  File \"zmq/backend/cython/checkrc.pxd\", line 28, in zmq.backend.cython.checkrc._check_rc\n",
      "zmq.error.ZMQError: Address already in use\n"
     ]
    },
    {
     "ename": "SystemExit",
     "evalue": "1",
     "output_type": "error",
     "traceback": [
      "An exception has occurred, use %tb to see the full traceback.\n",
      "\u001b[0;31mSystemExit\u001b[0m\u001b[0;31m:\u001b[0m 1\n"
     ]
    },
    {
     "name": "stderr",
     "output_type": "stream",
     "text": [
      "/Users/ding/miniconda3/envs/jmed/lib/python3.9/site-packages/IPython/core/interactiveshell.py:3369: UserWarning: To exit: use 'exit', 'quit', or Ctrl-D.\n",
      "  warn(\"To exit: use 'exit', 'quit', or Ctrl-D.\", stacklevel=1)\n"
     ]
    }
   ],
   "source": [
    "import os\n",
    "import sys\n",
    "from readmdict import MDX\n",
    "from flask import Flask, request, render_template\n",
    "\n",
    "mdx_file = 'Vocabulary/ced23.mdx'\n",
    "mdx = MDX(mdx_file)\n",
    "headworks = [*mdx]\n",
    "items = [*mdx.items()]\n",
    "n = len(headworks)\n",
    "m = len(items)\n",
    "assert n==m\n",
    "\n",
    "\n",
    "app = Flask(__name__)\n",
    "\n",
    "@app.route('/')\n",
    "def index():\n",
    "    return render_template('index.html')\n",
    "\n",
    "@app.route('/trans',methods=['POST'])\n",
    "def trans():\n",
    "    result = ''\n",
    "    if request.method == 'POST':\n",
    "        try:\n",
    "            txt = request.form['txt']\n",
    "        except:\n",
    "            return '1: get txt error'\n",
    "        if len(txt.strip()) == 0:\n",
    "            return 'text is null'\n",
    "        print(txt)\n",
    "        global headworks, items\n",
    "        word, html = items[0]\n",
    "        result = html.decode()\n",
    "        result = result.replace('sf_ecce.css','Vocabulary/ced23.css')\n",
    "    return result\n",
    "        \n",
    "                \n",
    "\n",
    "app.run(host='127.0.0.1', port=8889, debug=True)\n",
    "    "
   ]
  },
  {
   "cell_type": "code",
   "execution_count": null,
   "id": "b47d34dd",
   "metadata": {},
   "outputs": [],
   "source": []
  }
 ],
 "metadata": {
  "kernelspec": {
   "display_name": "Python 3 (ipykernel)",
   "language": "python",
   "name": "python3"
  },
  "language_info": {
   "codemirror_mode": {
    "name": "ipython",
    "version": 3
   },
   "file_extension": ".py",
   "mimetype": "text/x-python",
   "name": "python",
   "nbconvert_exporter": "python",
   "pygments_lexer": "ipython3",
   "version": "3.9.7"
  }
 },
 "nbformat": 4,
 "nbformat_minor": 5
}
